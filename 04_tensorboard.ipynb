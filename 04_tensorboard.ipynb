{
 "cells": [
  {
   "cell_type": "code",
   "execution_count": 2,
   "metadata": {},
   "outputs": [],
   "source": [
    "import torch\n",
    "import torch.nn as nn\n",
    "import torch.nn.functional as F\n",
    "import torch.optim as optim\n",
    "from torch.utils.tensorboard import SummaryWriter\n",
    "\n",
    "import torchvision\n",
    "import torchvision.transforms as transforms\n",
    "\n",
    "from torch.utils.tensorboard import SummaryWriter\n",
    "from torchvision import datasets, transforms\n",
    "\n",
    "import functools"
   ]
  },
  {
   "cell_type": "code",
   "execution_count": 3,
   "metadata": {},
   "outputs": [
    {
     "name": "stdout",
     "output_type": "stream",
     "text": [
      "1.3.1+cpu\n",
      "0.4.2+cpu\n"
     ]
    }
   ],
   "source": [
    "print(torch.__version__)\n",
    "print(torchvision.__version__)"
   ]
  },
  {
   "cell_type": "code",
   "execution_count": 39,
   "metadata": {},
   "outputs": [],
   "source": [
    "def get_num_correct(predictions, labels):\n",
    "    return torch.argmax(predictions, dim=1).eq(labels).sum().item()"
   ]
  },
  {
   "cell_type": "code",
   "execution_count": 4,
   "metadata": {},
   "outputs": [],
   "source": [
    "def func_aggregator(list_of_functions, operand):\n",
    "    for function in list_of_functions:\n",
    "        operand = function(operand)\n",
    "    return operand"
   ]
  },
  {
   "cell_type": "code",
   "execution_count": 10,
   "metadata": {},
   "outputs": [
    {
     "name": "stdout",
     "output_type": "stream",
     "text": [
      "6\n"
     ]
    }
   ],
   "source": [
    "func_aggregator([lambda x:[i for i in x if i % 2 == 0], sum, print], [1,2,3,4])"
   ]
  },
  {
   "cell_type": "code",
   "execution_count": 38,
   "metadata": {},
   "outputs": [],
   "source": [
    "class Network(torch.nn.Module):\n",
    "    def __init__(self):\n",
    "        super(Network, self).__init__()\n",
    "        # Layers\n",
    "        self.conv1 = torch.nn.Conv2d(in_channels=1, out_channels=6, kernel_size=5)\n",
    "        self.conv2 = torch.nn.Conv2d(in_channels=6, out_channels=12, kernel_size=5)\n",
    "        self.fc1 = torch.nn.Linear(in_features=12*4*4, out_features=120)\n",
    "        self.fc2 = torch.nn.Linear(in_features=120, out_features=60)\n",
    "        self.fc3 = torch.nn.Linear(in_features=60, out_features=10)\n",
    "\n",
    "        #Operations\n",
    "        self.maxpool = functools.partial(F.max_pool2d, kernel_size=2, stride=2)\n",
    "        self.relu = F.relu\n",
    "        self.softmax = F.softmax\n",
    "\n",
    "    def forward(self, t):\n",
    "        t = self.conv1(t)\n",
    "        t = self.relu(t)\n",
    "        t = self.maxpool(t)\n",
    "\n",
    "        t = self.conv2(t)\n",
    "        t = self.relu(t)\n",
    "        t = self.maxpool(t)\n",
    "\n",
    "#         t = t.reshape(-1, 12*4*4)\n",
    "        t = t.flatten(start_dim=1)\n",
    "        t = self.fc1(t)\n",
    "        t = self.relu(t)\n",
    "\n",
    "        t = self.fc2(t)\n",
    "        t = self.relu(t)\n",
    "\n",
    "        t = self.fc3(t)\n",
    "        return t"
   ]
  },
  {
   "cell_type": "code",
   "execution_count": 37,
   "metadata": {},
   "outputs": [],
   "source": [
    "training_set = torchvision.datasets.FashionMNIST(\n",
    "  root = './data/FashionMNIST',\n",
    "  train=True,\n",
    "  download=True,\n",
    "  transform = transforms.Compose([\n",
    "    transforms.ToTensor()\n",
    "  ])\n",
    ")"
   ]
  },
  {
   "cell_type": "code",
   "execution_count": 11,
   "metadata": {},
   "outputs": [
    {
     "name": "stdout",
     "output_type": "stream",
     "text": [
      "Object `data_loader` not found.\n"
     ]
    }
   ],
   "source": [
    "data_loader?"
   ]
  },
  {
   "cell_type": "code",
   "execution_count": 44,
   "metadata": {},
   "outputs": [],
   "source": [
    "images, labels = next(iter(data_loader))\n",
    "grid = torchvision.utils.make_grid(images)# creates a grid of images\n",
    "\n",
    "tb = SummaryWriter()\n",
    "tb.add_image('images', grid) # add the grid to the tensorboard\n",
    "tb.add_graph(network, images)\n",
    "\n",
    "tb.close()"
   ]
  },
  {
   "cell_type": "code",
   "execution_count": 40,
   "metadata": {},
   "outputs": [],
   "source": [
    "NUM_EPOCHS = 1\n",
    "lr = 0.01\n",
    "batch_size = 100\n",
    "new_network = Network()\n",
    "data_loader = torch.utils.data.DataLoader(training_set, batch_size=batch_size, shuffle=True)\n",
    "optimizer = optim.Adam(new_network.parameters(), lr=lr)"
   ]
  },
  {
   "cell_type": "code",
   "execution_count": 10,
   "metadata": {},
   "outputs": [
    {
     "name": "stdout",
     "output_type": "stream",
     "text": [
      "epoch:  0  loss:  353.1576067209244  correct:  46570\n",
      "epoch:  1  loss:  240.32507067918777  correct:  51034\n",
      "epoch:  2  loss:  216.84649454057217  correct:  51891\n",
      "epoch:  3  loss:  206.24138398468494  correct:  52292\n",
      "epoch:  4  loss:  202.21048863232136  correct:  52463\n",
      "epoch:  5  loss:  196.3533470928669  correct:  52694\n",
      "epoch:  6  loss:  196.58537830412388  correct:  52745\n",
      "epoch:  7  loss:  192.64061133563519  correct:  52841\n",
      "epoch:  8  loss:  194.7747795432806  correct:  52832\n",
      "epoch:  9  loss:  190.70732675492764  correct:  52919\n"
     ]
    }
   ],
   "source": [
    "images, labels = next(iter(data_loader))\n",
    "grid = torchvision.utils.make_grid(images)# creates a grid of images\n",
    "\n",
    "comment = f' learning rate={lr}; batch size={batch_size}'\n",
    "tb = SummaryWriter(comment=comment)\n",
    "tb.add_image('images', grid) # add the grid to the tensorboard\n",
    "tb.add_graph(network, images)\n",
    "\n",
    "for i in range(NUM_EPOCHS):\n",
    "    \n",
    "    total_loss = 0\n",
    "    total_correct = 0\n",
    "    \n",
    "    for batch in data_loader:\n",
    "        images, labels = batch\n",
    "\n",
    "        predictions = new_network(images)\n",
    "        loss = F.cross_entropy(predictions, labels)\n",
    "\n",
    "        optimizer.zero_grad()\n",
    "        loss.backward()\n",
    "        optimizer.step()\n",
    "\n",
    "        total_correct += get_num_correct(predictions, labels)\n",
    "        total_loss += loss.item() * batch_size\n",
    "\n",
    "    tb.add_scalar('Loss', total_loss, epoch)\n",
    "    tb.add_scalar('Correct count', total_correct, epoch)\n",
    "    tb.add_scalar('Accuracy', total_correct / len(training_set), epoch)\n",
    "    \n",
    "#     tb.add_histogram('conv1.bias', network.conv1.bias, epoch)\n",
    "#     tb.add_histogram('conv1.weight', network.conv1.weight, epoch)\n",
    "#     tb.add_histogram('conv1.weight.grad', network.conv1.weight.grad, epoch)\n",
    "    for name, weight in network.named_parameters():\n",
    "        tb.add_histogram(name, weight, epoch)\n",
    "        tb.add_histogram(f'{name}.grad', weight.grad, epoch)\n",
    "\n",
    "    print(\"epoch: \", i,' loss: ', total_loss, ' correct: ', total_correct)"
   ]
  },
  {
   "cell_type": "code",
   "execution_count": 11,
   "metadata": {},
   "outputs": [],
   "source": [
    "def get_all_predictions(model, loader):\n",
    "    all_predictions = torch.tensor([])\n",
    "    for batch in loader:\n",
    "        images, labels = batch\n",
    "        predictions = model(images)\n",
    "        all_predictions = torch.cat((all_predictions, predictions), \n",
    "                                    dim=0)\n",
    "    return all_predictions"
   ]
  },
  {
   "cell_type": "code",
   "execution_count": 12,
   "metadata": {},
   "outputs": [],
   "source": [
    "# prediction_loader = torch.utils.data.DataLoader(training_set, \n",
    "#                                                 batch_size=100)\n",
    "# train_predictions = get_all_predictions(new_network, \n",
    "#                                         prediction_loader)"
   ]
  },
  {
   "cell_type": "code",
   "execution_count": 13,
   "metadata": {},
   "outputs": [],
   "source": [
    "# train_predictions"
   ]
  },
  {
   "cell_type": "code",
   "execution_count": 14,
   "metadata": {},
   "outputs": [],
   "source": [
    "# train_predictions.requires_grad"
   ]
  },
  {
   "cell_type": "code",
   "execution_count": 15,
   "metadata": {},
   "outputs": [],
   "source": [
    "# train_predictions.grad"
   ]
  },
  {
   "cell_type": "code",
   "execution_count": 16,
   "metadata": {},
   "outputs": [],
   "source": [
    "# train_predictions.grad_fn"
   ]
  },
  {
   "cell_type": "code",
   "execution_count": 17,
   "metadata": {},
   "outputs": [],
   "source": [
    "# it is best to turn grad off locally during testing of a network like below:"
   ]
  },
  {
   "cell_type": "code",
   "execution_count": 18,
   "metadata": {},
   "outputs": [],
   "source": [
    "with torch.no_grad():\n",
    "    prediction_loader = torch.utils.data.DataLoader(training_set, \n",
    "                                                batch_size=100)\n",
    "    train_predictions = get_all_predictions(new_network, \n",
    "                                        prediction_loader)"
   ]
  },
  {
   "cell_type": "code",
   "execution_count": 19,
   "metadata": {},
   "outputs": [],
   "source": [
    "#same effect a before but turns the grad off everytime the function is run\n",
    "\n",
    "@torch.no_grad()\n",
    "def get_n_correct_predictionsedictions(model, loader):\n",
    "    all_predictions = torch.tensor([])\n",
    "    for batch in loader:\n",
    "        images, labels = batch\n",
    "        predictions = model(images)\n",
    "        all_predictions = torch.cat((all_predictions, predictions), \n",
    "                                    dim=0)\n",
    "    return all_predictions"
   ]
  },
  {
   "cell_type": "code",
   "execution_count": 20,
   "metadata": {},
   "outputs": [
    {
     "name": "stdout",
     "output_type": "stream",
     "text": [
      "accuracy:  0.8885833333333333\n"
     ]
    }
   ],
   "source": [
    "n_correct_predictions = get_num_correct(train_predictions, training_set.targets)\n",
    "print('accuracy: ', n_correct_predictions/len(training_set))"
   ]
  },
  {
   "cell_type": "code",
   "execution_count": 21,
   "metadata": {},
   "outputs": [],
   "source": [
    "stacked = torch.stack([training_set.targets, train_predictions.argmax(dim=1)], dim=1)"
   ]
  },
  {
   "cell_type": "code",
   "execution_count": 22,
   "metadata": {},
   "outputs": [
    {
     "data": {
      "text/plain": [
       "torch.Size([60000, 2])"
      ]
     },
     "execution_count": 22,
     "metadata": {},
     "output_type": "execute_result"
    }
   ],
   "source": [
    "stacked.shape"
   ]
  },
  {
   "cell_type": "code",
   "execution_count": 23,
   "metadata": {},
   "outputs": [],
   "source": [
    "confusion_matrix = torch.zeros(10, 10, dtype=torch.int16)"
   ]
  },
  {
   "cell_type": "code",
   "execution_count": 24,
   "metadata": {},
   "outputs": [],
   "source": [
    "for pair in stacked:\n",
    "    i,j = pair\n",
    "    confusion_matrix[i,j] += 1"
   ]
  },
  {
   "cell_type": "code",
   "execution_count": 25,
   "metadata": {},
   "outputs": [
    {
     "data": {
      "text/plain": [
       "tensor([[5455,    1,  100,   92,   22,    2,  296,    1,   31,    0],\n",
       "        [  24, 5845,    7,   77,   14,    0,   31,    0,    2,    0],\n",
       "        [  65,    1, 4723,   64,  900,    1,  224,    0,   22,    0],\n",
       "        [ 206,   26,   20, 5476,  186,    0,   83,    0,    3,    0],\n",
       "        [  11,    1,  248,  231, 5212,    0,  284,    0,   12,    1],\n",
       "        [   5,    0,    0,    0,    0, 5727,    1,  177,    0,   90],\n",
       "        [1135,    0,  617,  130,  597,    1, 3474,    0,   46,    0],\n",
       "        [   0,    0,    0,    0,    0,   27,    0, 5837,    2,  134],\n",
       "        [  35,    0,   34,   21,   27,   30,   31,   22, 5790,   10],\n",
       "        [   0,    0,    0,    1,    2,   19,    0,  200,    2, 5776]],\n",
       "       dtype=torch.int16)"
      ]
     },
     "execution_count": 25,
     "metadata": {},
     "output_type": "execute_result"
    }
   ],
   "source": [
    "confusion_matrix"
   ]
  },
  {
   "cell_type": "code",
   "execution_count": 26,
   "metadata": {},
   "outputs": [],
   "source": [
    "import matplotlib.pyplot as plt\n",
    "from sklearn.metrics import confusion_matrix"
   ]
  },
  {
   "cell_type": "code",
   "execution_count": 27,
   "metadata": {},
   "outputs": [],
   "source": [
    "confusion_matrix_data = torch.tensor(\n",
    "    confusion_matrix(\n",
    "        training_set.targets, \n",
    "        train_predictions.argmax(dim=1)\n",
    "    )\n",
    ")"
   ]
  },
  {
   "cell_type": "code",
   "execution_count": 28,
   "metadata": {},
   "outputs": [],
   "source": [
    "from plot_cm import plot_confusion_matrix"
   ]
  },
  {
   "cell_type": "code",
   "execution_count": 29,
   "metadata": {},
   "outputs": [],
   "source": [
    "names = (\n",
    "    'T-shirt/top'\n",
    "    ,'Trouser'\n",
    "    ,'Pullover'\n",
    "    ,'Dress'\n",
    "    ,'Coat'\n",
    "    ,'Sandal'\n",
    "    ,'Shirt'\n",
    "    ,'Sneaker'\n",
    "    ,'Bag'\n",
    "    ,'Ankle boot'\n",
    ")"
   ]
  },
  {
   "cell_type": "code",
   "execution_count": 30,
   "metadata": {},
   "outputs": [
    {
     "data": {
      "text/plain": [
       "['numpy']"
      ]
     },
     "execution_count": 30,
     "metadata": {},
     "output_type": "execute_result"
    }
   ],
   "source": [
    "[i for i in dir(confusion_matrix_data) if 'numpy' in i]"
   ]
  },
  {
   "cell_type": "code",
   "execution_count": 31,
   "metadata": {},
   "outputs": [
    {
     "name": "stdout",
     "output_type": "stream",
     "text": [
      "Confusion matrix, without normalization\n"
     ]
    },
    {
     "data": {
      "image/png": "[encoded data removed]",
      "text/plain": [
       "<Figure size 720x720 with 2 Axes>"
      ]
     },
     "metadata": {
      "needs_background": "light"
     },
     "output_type": "display_data"
    }
   ],
   "source": [
    "plt.figure(figsize=(10,10))\n",
    "plot_confusion_matrix(confusion_matrix_data.numpy(), names, normalize=False)"
   ]
  },
  {
   "cell_type": "code",
   "execution_count": null,
   "metadata": {},
   "outputs": [],
   "source": []
  },
  {
   "cell_type": "code",
   "execution_count": 32,
   "metadata": {},
   "outputs": [],
   "source": [
    "import torch\n",
    "import torchvision\n",
    "from torch.utils.tensorboard import SummaryWriter\n",
    "from torchvision import datasets, transforms"
   ]
  },
  {
   "cell_type": "code",
   "execution_count": 33,
   "metadata": {},
   "outputs": [],
   "source": [
    "# Writer will output to ./runs/ directory by default\n",
    "writer = SummaryWriter()\n",
    "\n",
    "transform = transforms.Compose([transforms.ToTensor(), transforms.Normalize((0.5,), (0.5,))])\n",
    "trainset = datasets.MNIST('./data/MNIST', train=True, download=True, transform=transform)\n",
    "trainloader = torch.utils.data.DataLoader(trainset, batch_size=64, shuffle=True)\n",
    "model = torchvision.models.resnet50(False)\n",
    "# Have ResNet model take in grayscale rather than RGB\n",
    "model.conv1 = torch.nn.Conv2d(1, 64, kernel_size=7, stride=2, padding=3, bias=False)\n",
    "images, labels = next(iter(trainloader))\n",
    "\n",
    "grid = torchvision.utils.make_grid(images)\n",
    "writer.add_image('images', grid, 0)\n",
    "writer.add_graph(model, images)\n",
    "writer.close()"
   ]
  },
  {
   "cell_type": "code",
   "execution_count": 34,
   "metadata": {},
   "outputs": [],
   "source": [
    "from torch.utils.tensorboard import SummaryWriter\n",
    "import numpy as np\n",
    "\n",
    "writer = SummaryWriter()\n",
    "\n",
    "for n_iter in range(100):\n",
    "    writer.add_scalar('Loss/train', np.random.random(), n_iter)\n",
    "    writer.add_scalar('Loss/test', np.random.random(), n_iter)\n",
    "    writer.add_scalar('Accuracy/train', np.random.random(), n_iter)\n",
    "    writer.add_scalar('Accuracy/test', np.random.random(), n_iter)"
   ]
  },
  {
   "cell_type": "code",
   "execution_count": null,
   "metadata": {},
   "outputs": [],
   "source": [
    "# To install and run tensorboard in shell\n",
    "#----------------------------------------#\n",
    "#!pip install tensorboard\n",
    "\n",
    "#!tensorboard --version\n",
    "\n",
    "#!tensorboard --logdir=runs"
   ]
  },
  {
   "cell_type": "code",
   "execution_count": 15,
   "metadata": {},
   "outputs": [
    {
     "name": "stdout",
     "output_type": "stream",
     "text": [
      "Y\n"
     ]
    }
   ],
   "source": [
    "import inspect\n",
    "\n",
    "x,y,z = 1,2,3\n",
    "\n",
    "def retrieve_name(var):\n",
    "    callers_local_vars = inspect.currentframe().f_back.f_locals.items()\n",
    "    return [var_name for var_name, var_val in callers_local_vars if var_val is var][0]\n",
    "\n",
    "print(retrieve_name(y))"
   ]
  }
 ],
 "metadata": {
  "kernelspec": {
   "display_name": "Python 3",
   "language": "python",
   "name": "python3"
  },
  "language_info": {
   "codemirror_mode": {
    "name": "ipython",
    "version": 3
   },
   "file_extension": ".py",
   "mimetype": "text/x-python",
   "name": "python",
   "nbconvert_exporter": "python",
   "pygments_lexer": "ipython3",
   "version": "3.6.8"
  }
 },
 "nbformat": 4,
 "nbformat_minor": 4
}
