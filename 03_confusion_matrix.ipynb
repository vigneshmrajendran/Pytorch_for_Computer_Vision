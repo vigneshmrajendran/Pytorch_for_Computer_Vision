{
 "cells": [
  {
   "cell_type": "code",
   "execution_count": 1,
   "metadata": {},
   "outputs": [],
   "source": [
    "import torch\n",
    "import torch.nn as nn\n",
    "import torch.nn.functional as F\n",
    "import torch.optim as optim\n",
    "\n",
    "import torchvision\n",
    "import torchvision.transforms as transforms\n",
    "\n",
    "import functools"
   ]
  },
  {
   "cell_type": "code",
   "execution_count": 2,
   "metadata": {},
   "outputs": [],
   "source": [
    "training_set = torchvision.datasets.FashionMNIST(\n",
    "  root = './data/FashionMNIST',\n",
    "  train=True,\n",
    "  download=True,\n",
    "  transform = transforms.Compose([\n",
    "    transforms.ToTensor()\n",
    "  ])\n",
    ")"
   ]
  },
  {
   "cell_type": "code",
   "execution_count": 3,
   "metadata": {},
   "outputs": [],
   "source": [
    "class Network(torch.nn.Module):\n",
    "    def __init__(self):\n",
    "        super(Network, self).__init__()\n",
    "        # Layers\n",
    "        self.conv1 = torch.nn.Conv2d(in_channels=1, out_channels=6, kernel_size=5)\n",
    "        self.conv2 = torch.nn.Conv2d(in_channels=6, out_channels=12, kernel_size=5)\n",
    "        self.fc1 = torch.nn.Linear(in_features=12*4*4, out_features=120)\n",
    "        self.fc2 = torch.nn.Linear(in_features=120, out_features=60)\n",
    "        self.fc3 = torch.nn.Linear(in_features=60, out_features=10)\n",
    "\n",
    "        #Operations\n",
    "        self.maxpool2d2k2s = functools.partial(F.max_pool2d, kernel_size=2, stride=2)\n",
    "        self.relu = F.relu\n",
    "        self.softmax = F.softmax\n",
    "\n",
    "    def forward(self, t):\n",
    "        t = self.conv1(t)\n",
    "        t = self.relu(t)\n",
    "        t = self.maxpool2d2k2s(t)\n",
    "\n",
    "        t = self.conv2(t)\n",
    "        t = self.relu(t)\n",
    "        t = self.maxpool2d2k2s(t)\n",
    "\n",
    "        t = t.reshape(-1, 12*4*4)\n",
    "        t = self.fc1(t)\n",
    "        t = self.relu(t)\n",
    "\n",
    "        t = self.fc2(t)\n",
    "        t = self.relu(t)\n",
    "\n",
    "        t = self.fc3(t)\n",
    "        return t"
   ]
  },
  {
   "cell_type": "code",
   "execution_count": 4,
   "metadata": {},
   "outputs": [],
   "source": [
    "def get_num_correct(predictions, labels):\n",
    "    return torch.argmax(predictions, dim=1).eq(labels).sum().item()"
   ]
  },
  {
   "cell_type": "code",
   "execution_count": 7,
   "metadata": {},
   "outputs": [],
   "source": [
    "new_network = Network()\n",
    "data_loader = torch.utils.data.DataLoader(training_set, batch_size=100)\n",
    "optimizer = optim.Adam(new_network.parameters(), lr=0.01)\n",
    "NUM_EPOCHS = 10"
   ]
  },
  {
   "cell_type": "code",
   "execution_count": 8,
   "metadata": {},
   "outputs": [
    {
     "name": "stdout",
     "output_type": "stream",
     "text": [
      "epoch:  0  loss:  320.10553908348083  correct:  48038\n",
      "epoch:  1  loss:  223.55850146710873  correct:  51754\n",
      "epoch:  2  loss:  207.29799257218838  correct:  52293\n",
      "epoch:  3  loss:  200.14671848714352  correct:  52542\n",
      "epoch:  4  loss:  191.78789430856705  correct:  52812\n",
      "epoch:  5  loss:  190.01214063167572  correct:  52904\n",
      "epoch:  6  loss:  186.5267535597086  correct:  53018\n",
      "epoch:  7  loss:  181.54046157747507  correct:  53206\n",
      "epoch:  8  loss:  179.62509358674288  correct:  53314\n",
      "epoch:  9  loss:  185.51415465772152  correct:  53160\n"
     ]
    }
   ],
   "source": [
    "for i in range(NUM_EPOCHS):\n",
    "    total_loss = 0\n",
    "    total_correct = 0\n",
    "    loss_list = []\n",
    "    for batch in data_loader:\n",
    "        \n",
    "        images, labels = batch\n",
    "\n",
    "        predictions = new_network(images)\n",
    "        loss = F.cross_entropy(predictions, labels)\n",
    "\n",
    "        optimizer.zero_grad()\n",
    "        loss.backward()\n",
    "        optimizer.step()\n",
    "\n",
    "        total_correct += get_num_correct(predictions, labels)\n",
    "        total_loss += loss.item()\n",
    "        loss_list.append(loss.item())\n",
    "\n",
    "    print(\"epoch: \", i,' loss: ', total_loss, ' correct: ', \n",
    "          total_correct)"
   ]
  },
  {
   "cell_type": "code",
   "execution_count": 9,
   "metadata": {},
   "outputs": [],
   "source": [
    "def get_all_predictions(model, loader):\n",
    "    all_predictions = torch.tensor([])\n",
    "    for batch in loader:\n",
    "        images, labels = batch\n",
    "        predictions = model(images)\n",
    "        all_predictions = torch.cat((all_predictions, predictions), \n",
    "                                    dim=0)\n",
    "    return all_predictions"
   ]
  },
  {
   "cell_type": "code",
   "execution_count": 15,
   "metadata": {},
   "outputs": [],
   "source": [
    "# prediction_loader = torch.utils.data.DataLoader(training_set, \n",
    "#                                                 batch_size=100)\n",
    "# train_predictions = get_all_predictions(new_network, \n",
    "#                                         prediction_loader)"
   ]
  },
  {
   "cell_type": "code",
   "execution_count": 11,
   "metadata": {
    "collapsed": true,
    "jupyter": {
     "outputs_hidden": true
    }
   },
   "outputs": [
    {
     "data": {
      "text/plain": [
       "tensor([[-25.7898, -17.0848, -21.0427,  ...,   4.8181, -16.4729,   9.9146],\n",
       "        [ 19.4848, -12.1059,  -0.7508,  ..., -44.8961,  -6.6709, -53.2397],\n",
       "        [  3.9191,   0.1640,  -2.8548,  ..., -18.6552,  -5.5271, -15.0113],\n",
       "        ...,\n",
       "        [  2.0490,  -2.5345,  -6.5799,  ..., -25.5222,  -5.0122, -24.6600],\n",
       "        [  6.9794,  -4.9875,   0.6172,  ..., -17.0308,  -3.9612, -17.5064],\n",
       "        [ -1.5706, -24.2059,  -4.2384,  ...,  -2.3281,  -2.8095,  -4.7609]],\n",
       "       grad_fn=<CatBackward>)"
      ]
     },
     "execution_count": 11,
     "metadata": {},
     "output_type": "execute_result"
    }
   ],
   "source": [
    "# train_predictions"
   ]
  },
  {
   "cell_type": "code",
   "execution_count": 12,
   "metadata": {},
   "outputs": [
    {
     "data": {
      "text/plain": [
       "True"
      ]
     },
     "execution_count": 12,
     "metadata": {},
     "output_type": "execute_result"
    }
   ],
   "source": [
    "# train_predictions.requires_grad"
   ]
  },
  {
   "cell_type": "code",
   "execution_count": null,
   "metadata": {},
   "outputs": [],
   "source": [
    "# train_predictions.grad"
   ]
  },
  {
   "cell_type": "code",
   "execution_count": null,
   "metadata": {},
   "outputs": [],
   "source": [
    "# train_predictions.grad_fn"
   ]
  },
  {
   "cell_type": "code",
   "execution_count": null,
   "metadata": {},
   "outputs": [],
   "source": [
    "# it is best to turn grad off locally during testing of a network like below:"
   ]
  },
  {
   "cell_type": "code",
   "execution_count": 10,
   "metadata": {},
   "outputs": [],
   "source": [
    "with torch.no_grad():\n",
    "    prediction_loader = torch.utils.data.DataLoader(training_set, \n",
    "                                                batch_size=100)\n",
    "    train_predictions = get_all_predictions(new_network, \n",
    "                                        prediction_loader)"
   ]
  },
  {
   "cell_type": "code",
   "execution_count": null,
   "metadata": {},
   "outputs": [],
   "source": [
    "#same effect a before but turns the grad off everytime the function is run\n",
    "\n",
    "@torch.no_grad()\n",
    "def get_n_correct_predictionsedictions(model, loader):\n",
    "    all_predictions = torch.tensor([])\n",
    "    for batch in loader:\n",
    "        images, labels = batch\n",
    "        predictions = model(images)\n",
    "        all_predictions = torch.cat((all_predictions, predictions), \n",
    "                                    dim=0)\n",
    "    return all_predictions"
   ]
  },
  {
   "cell_type": "code",
   "execution_count": 11,
   "metadata": {},
   "outputs": [
    {
     "name": "stdout",
     "output_type": "stream",
     "text": [
      "accuracy:  0.8832833333333333\n"
     ]
    }
   ],
   "source": [
    "n_correct_predictions = get_num_correct(train_predictions, training_set.targets)\n",
    "print('accuracy: ', n_correct_predictions/len(training_set))"
   ]
  },
  {
   "cell_type": "code",
   "execution_count": 16,
   "metadata": {},
   "outputs": [],
   "source": [
    "stacked = torch.stack([training_set.targets, train_predictions.argmax(dim=1)], dim=1)"
   ]
  },
  {
   "cell_type": "code",
   "execution_count": 17,
   "metadata": {},
   "outputs": [
    {
     "data": {
      "text/plain": [
       "torch.Size([60000, 2])"
      ]
     },
     "execution_count": 17,
     "metadata": {},
     "output_type": "execute_result"
    }
   ],
   "source": [
    "stacked.shape"
   ]
  },
  {
   "cell_type": "code",
   "execution_count": 21,
   "metadata": {},
   "outputs": [],
   "source": [
    "confusion_matrix = torch.zeros(10, 10, dtype=torch.int16)"
   ]
  },
  {
   "cell_type": "code",
   "execution_count": 22,
   "metadata": {},
   "outputs": [],
   "source": [
    "for pair in stacked:\n",
    "    i,j = pair\n",
    "    confusion_matrix[i,j] += 1"
   ]
  },
  {
   "cell_type": "code",
   "execution_count": 23,
   "metadata": {},
   "outputs": [
    {
     "data": {
      "text/plain": [
       "tensor([[5656,    1,   83,   91,   14,    0,   94,    1,   60,    0],\n",
       "        [  18, 5817,    2,  140,    5,    0,    9,    0,    9,    0],\n",
       "        [  95,    3, 4733,   43,  917,    0,  173,    0,   36,    0],\n",
       "        [ 165,    3,   17, 5556,  168,    0,   72,    0,   17,    2],\n",
       "        [  15,    0,  269,  201, 5316,    0,  150,    0,   49,    0],\n",
       "        [   0,    0,    1,    0,    0, 5644,    0,  225,   22,  108],\n",
       "        [1611,    0,  618,  126,  835,    0, 2706,    0,  104,    0],\n",
       "        [   0,    0,    0,    1,    0,   17,    0, 5868,    3,  111],\n",
       "        [  19,    1,    7,   21,   17,    1,   12,    9, 5912,    1],\n",
       "        [   1,    0,    0,    0,    0,    3,    1,  201,    5, 5789]],\n",
       "       dtype=torch.int16)"
      ]
     },
     "execution_count": 23,
     "metadata": {},
     "output_type": "execute_result"
    }
   ],
   "source": [
    "confusion_matrix"
   ]
  },
  {
   "cell_type": "code",
   "execution_count": 25,
   "metadata": {},
   "outputs": [],
   "source": [
    "import matplotlib.pyplot as plt\n",
    "from sklearn.metrics import confusion_matrix"
   ]
  },
  {
   "cell_type": "code",
   "execution_count": 30,
   "metadata": {},
   "outputs": [],
   "source": [
    "confusion_matrix_data = torch.tensor(\n",
    "    confusion_matrix(\n",
    "        training_set.targets, \n",
    "        train_predictions.argmax(dim=1)\n",
    "    )\n",
    ")"
   ]
  },
  {
   "cell_type": "code",
   "execution_count": 29,
   "metadata": {},
   "outputs": [],
   "source": [
    "from plot_cm import plot_confusion_matrix"
   ]
  },
  {
   "cell_type": "code",
   "execution_count": 34,
   "metadata": {},
   "outputs": [],
   "source": [
    "names = (\n",
    "    'T-shirt/top'\n",
    "    ,'Trouser'\n",
    "    ,'Pullover'\n",
    "    ,'Dress'\n",
    "    ,'Coat'\n",
    "    ,'Sandal'\n",
    "    ,'Shirt'\n",
    "    ,'Sneaker'\n",
    "    ,'Bag'\n",
    "    ,'Ankle boot'\n",
    ")"
   ]
  },
  {
   "cell_type": "code",
   "execution_count": 39,
   "metadata": {},
   "outputs": [
    {
     "data": {
      "text/plain": [
       "['numpy']"
      ]
     },
     "execution_count": 39,
     "metadata": {},
     "output_type": "execute_result"
    }
   ],
   "source": [
    "[i for i in dir(confusion_matrix_data) if 'numpy' in i]"
   ]
  },
  {
   "cell_type": "code",
   "execution_count": 45,
   "metadata": {},
   "outputs": [
    {
     "name": "stdout",
     "output_type": "stream",
     "text": [
      "Confusion matrix, without normalization\n",
      "[[5656    1   83   91   14    0   94    1   60    0]\n",
      " [  18 5817    2  140    5    0    9    0    9    0]\n",
      " [  95    3 4733   43  917    0  173    0   36    0]\n",
      " [ 165    3   17 5556  168    0   72    0   17    2]\n",
      " [  15    0  269  201 5316    0  150    0   49    0]\n",
      " [   0    0    1    0    0 5644    0  225   22  108]\n",
      " [1611    0  618  126  835    0 2706    0  104    0]\n",
      " [   0    0    0    1    0   17    0 5868    3  111]\n",
      " [  19    1    7   21   17    1   12    9 5912    1]\n",
      " [   1    0    0    0    0    3    1  201    5 5789]]\n"
     ]
    },
    {
     "data": {
      "image/png": "[encoded data removed]",
      "text/plain": [
       "<Figure size 720x720 with 2 Axes>"
      ]
     },
     "metadata": {
      "needs_background": "light"
     },
     "output_type": "display_data"
    }
   ],
   "source": [
    "plt.figure(figsize=(10,10))\n",
    "plot_confusion_matrix(confusion_matrix_data.numpy(), names, normalize=False)"
   ]
  }
 ],
 "metadata": {
  "kernelspec": {
   "display_name": "Python 3",
   "language": "python",
   "name": "python3"
  },
  "language_info": {
   "codemirror_mode": {
    "name": "ipython",
    "version": 3
   },
   "file_extension": ".py",
   "mimetype": "text/x-python",
   "name": "python",
   "nbconvert_exporter": "python",
   "pygments_lexer": "ipython3",
   "version": "3.6.8"
  }
 },
 "nbformat": 4,
 "nbformat_minor": 4
}
