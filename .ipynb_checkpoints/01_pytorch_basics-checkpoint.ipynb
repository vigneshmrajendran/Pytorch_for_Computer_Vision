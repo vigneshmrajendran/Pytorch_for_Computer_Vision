{
 "cells": [
  {
   "cell_type": "code",
   "execution_count": 2,
   "metadata": {},
   "outputs": [],
   "source": [
    "import torch"
   ]
  },
  {
   "cell_type": "code",
   "execution_count": 54,
   "metadata": {},
   "outputs": [],
   "source": [
    "y = torch.rand(2, 3)"
   ]
  },
  {
   "cell_type": "code",
   "execution_count": 55,
   "metadata": {},
   "outputs": [
    {
     "data": {
      "text/plain": [
       "tensor([[0.0357, 0.1248, 0.0123],\n",
       "        [0.7094, 0.5215, 0.5153]])"
      ]
     },
     "execution_count": 55,
     "metadata": {},
     "output_type": "execute_result"
    }
   ],
   "source": [
    "y"
   ]
  },
  {
   "cell_type": "code",
   "execution_count": 56,
   "metadata": {},
   "outputs": [],
   "source": [
    "z = y.view(-1,2)"
   ]
  },
  {
   "cell_type": "code",
   "execution_count": 57,
   "metadata": {},
   "outputs": [],
   "source": [
    "y[0, 1] = 0.4152"
   ]
  },
  {
   "cell_type": "code",
   "execution_count": 58,
   "metadata": {},
   "outputs": [
    {
     "data": {
      "text/plain": [
       "tensor([[0.0357, 0.4152],\n",
       "        [0.0123, 0.7094],\n",
       "        [0.5215, 0.5153]])"
      ]
     },
     "execution_count": 58,
     "metadata": {},
     "output_type": "execute_result"
    }
   ],
   "source": [
    "z"
   ]
  },
  {
   "cell_type": "code",
   "execution_count": 59,
   "metadata": {},
   "outputs": [
    {
     "name": "stdout",
     "output_type": "stream",
     "text": [
      "tensor([[0.0357, 0.4152, 0.0123],\n",
      "        [0.2810, 0.5215, 0.5153]])\n",
      "tensor([[0.0357, 0.4152],\n",
      "        [0.0123, 0.2810],\n",
      "        [0.5215, 0.5153]])\n"
     ]
    }
   ],
   "source": [
    "x = y.reshape(-1,2)\n",
    "x[1,1] = 0.281\n",
    "print(y)\n",
    "print(x)"
   ]
  },
  {
   "cell_type": "markdown",
   "metadata": {},
   "source": [
    "`reshape()` and `view()` share the memory. If you change the original data structure, the assigned variable value also changes."
   ]
  },
  {
   "cell_type": "code",
   "execution_count": 60,
   "metadata": {},
   "outputs": [
    {
     "name": "stdout",
     "output_type": "stream",
     "text": [
      "tensor([[[[-0.4981, -0.6256, -0.4970, -0.5521],\n",
      "          [-0.1108,  0.7618, -1.3766,  0.8064],\n",
      "          [ 1.6970, -2.0223,  0.2529, -1.0003]],\n",
      "\n",
      "         [[-1.6542, -0.2022,  0.4417, -0.0819],\n",
      "          [ 0.6332, -0.2028,  1.3380, -1.5960],\n",
      "          [-0.2719,  1.0771, -0.8568, -0.5844]]]])\n"
     ]
    }
   ],
   "source": [
    "a = torch.randn(1, 2, 3, 4)\n",
    "print(a)"
   ]
  },
  {
   "cell_type": "code",
   "execution_count": 61,
   "metadata": {},
   "outputs": [],
   "source": [
    "b = torch.squeeze(a)"
   ]
  },
  {
   "cell_type": "code",
   "execution_count": 62,
   "metadata": {},
   "outputs": [
    {
     "name": "stdout",
     "output_type": "stream",
     "text": [
      "torch.Size([2, 3, 4])\n",
      "torch.Size([2, 3, 1, 4])\n"
     ]
    }
   ],
   "source": [
    "print(b.shape)\n",
    "print(torch.unsqueeze(b, dim=2).shape)"
   ]
  },
  {
   "cell_type": "code",
   "execution_count": 63,
   "metadata": {},
   "outputs": [
    {
     "name": "stdout",
     "output_type": "stream",
     "text": [
      "torch.Size([4])\n",
      "1\n",
      "torch.Size([4, 1])\n"
     ]
    }
   ],
   "source": [
    "x = torch.tensor([1, 2, 3, 4])\n",
    "print(x.shape)\n",
    "print(x.dim())\n",
    "print(torch.unsqueeze(x, dim=1).shape)"
   ]
  },
  {
   "cell_type": "code",
   "execution_count": 64,
   "metadata": {},
   "outputs": [
    {
     "name": "stdout",
     "output_type": "stream",
     "text": [
      "tensor([[[[-0.4981, -0.6256, -0.4970, -0.5521],\n",
      "          [-1.6542, -0.2022,  0.4417, -0.0819]],\n",
      "\n",
      "         [[-0.1108,  0.7618, -1.3766,  0.8064],\n",
      "          [ 0.6332, -0.2028,  1.3380, -1.5960]],\n",
      "\n",
      "         [[ 1.6970, -2.0223,  0.2529, -1.0003],\n",
      "          [-0.2719,  1.0771, -0.8568, -0.5844]]]])\n"
     ]
    }
   ],
   "source": [
    "b = a.transpose(1,2)\n",
    "print(b)"
   ]
  },
  {
   "cell_type": "code",
   "execution_count": 65,
   "metadata": {},
   "outputs": [
    {
     "name": "stdout",
     "output_type": "stream",
     "text": [
      "torch.Size([1, 2, 3, 4]) torch.Size([1, 3, 2, 4])\n"
     ]
    }
   ],
   "source": [
    "print(a.shape, b.shape)"
   ]
  },
  {
   "cell_type": "code",
   "execution_count": 66,
   "metadata": {},
   "outputs": [],
   "source": [
    "a = torch.randn(5, 3)"
   ]
  },
  {
   "cell_type": "code",
   "execution_count": 67,
   "metadata": {},
   "outputs": [
    {
     "data": {
      "text/plain": [
       "tensor([[-0.1183, -0.5315,  0.3990,  1.9161,  0.0867],\n",
       "        [ 1.3294, -0.4191,  0.1833,  2.6521, -1.3386],\n",
       "        [-0.8111, -1.2236, -0.3969, -1.2640,  1.5572]])"
      ]
     },
     "execution_count": 67,
     "metadata": {},
     "output_type": "execute_result"
    }
   ],
   "source": [
    "a.view(-1,5)"
   ]
  },
  {
   "cell_type": "code",
   "execution_count": 95,
   "metadata": {},
   "outputs": [],
   "source": [
    "x = torch.randn(1, 5, 3).type(torch.FloatTensor)"
   ]
  },
  {
   "cell_type": "code",
   "execution_count": 96,
   "metadata": {},
   "outputs": [
    {
     "data": {
      "text/plain": [
       "'torch.FloatTensor'"
      ]
     },
     "execution_count": 96,
     "metadata": {},
     "output_type": "execute_result"
    }
   ],
   "source": [
    "y = torch.randn(1, 5, 3)\n",
    "y.type()"
   ]
  },
  {
   "cell_type": "code",
   "execution_count": 97,
   "metadata": {},
   "outputs": [],
   "source": [
    "v = torch.cat([x, y], 0)"
   ]
  },
  {
   "cell_type": "code",
   "execution_count": 98,
   "metadata": {},
   "outputs": [
    {
     "data": {
      "text/plain": [
       "(torch.Size([1, 5, 3]), torch.Size([1, 5, 3]), torch.Size([2, 5, 3]))"
      ]
     },
     "execution_count": 98,
     "metadata": {},
     "output_type": "execute_result"
    }
   ],
   "source": [
    "x.shape, y.shape, v.shape"
   ]
  },
  {
   "cell_type": "code",
   "execution_count": 99,
   "metadata": {},
   "outputs": [],
   "source": [
    "u = torch.stack([x, y])"
   ]
  },
  {
   "cell_type": "code",
   "execution_count": 100,
   "metadata": {},
   "outputs": [
    {
     "name": "stdout",
     "output_type": "stream",
     "text": [
      "tensor([[[ 0.3856, -0.6188, -0.2939],\n",
      "         [-1.2614,  1.6813, -0.6430],\n",
      "         [ 0.8118,  1.4205, -0.4980],\n",
      "         [-0.9878, -0.6202,  0.8661],\n",
      "         [-0.3967, -1.0970,  1.3531]]])\n",
      "tensor([[[ 0.6429, -0.6450, -0.8904],\n",
      "         [-0.5412, -0.1164,  0.1145],\n",
      "         [-0.0904,  0.8527,  1.4623],\n",
      "         [ 0.6218,  2.0221,  0.2533],\n",
      "         [-0.1603,  0.9349,  0.2694]]])\n",
      "tensor([[[[ 0.3856, -0.6188, -0.2939],\n",
      "          [-1.2614,  1.6813, -0.6430],\n",
      "          [ 0.8118,  1.4205, -0.4980],\n",
      "          [-0.9878, -0.6202,  0.8661],\n",
      "          [-0.3967, -1.0970,  1.3531]]],\n",
      "\n",
      "\n",
      "        [[[ 0.6429, -0.6450, -0.8904],\n",
      "          [-0.5412, -0.1164,  0.1145],\n",
      "          [-0.0904,  0.8527,  1.4623],\n",
      "          [ 0.6218,  2.0221,  0.2533],\n",
      "          [-0.1603,  0.9349,  0.2694]]]])\n",
      "torch.Size([1, 5, 3]) torch.Size([1, 5, 3]) torch.Size([2, 5, 3]) torch.Size([2, 1, 5, 3])\n"
     ]
    }
   ],
   "source": [
    "print(x)\n",
    "print(y)\n",
    "print(u)\n",
    "print(x.shape, y.shape, v.shape, u.shape)"
   ]
  },
  {
   "cell_type": "code",
   "execution_count": 101,
   "metadata": {},
   "outputs": [
    {
     "data": {
      "text/plain": [
       "tensor([[[ 0.3856, -0.6188, -0.2939],\n",
       "         [-1.2614,  1.6813, -0.6430],\n",
       "         [ 0.8118,  1.4205, -0.4980],\n",
       "         [-0.9878, -0.6202,  0.8661],\n",
       "         [-0.3967, -1.0970,  1.3531]]])"
      ]
     },
     "execution_count": 101,
     "metadata": {},
     "output_type": "execute_result"
    }
   ],
   "source": [
    "x"
   ]
  },
  {
   "cell_type": "code",
   "execution_count": 106,
   "metadata": {},
   "outputs": [
    {
     "data": {
      "text/plain": [
       "(tensor(1.6813), tensor(4))"
      ]
     },
     "execution_count": 106,
     "metadata": {},
     "output_type": "execute_result"
    }
   ],
   "source": [
    "x.max(), x.argmax()"
   ]
  },
  {
   "cell_type": "code",
   "execution_count": 113,
   "metadata": {},
   "outputs": [
    {
     "data": {
      "text/plain": [
       "torch.Size([2, 1, 5, 3])"
      ]
     },
     "execution_count": 113,
     "metadata": {},
     "output_type": "execute_result"
    }
   ],
   "source": [
    "u.shape"
   ]
  },
  {
   "cell_type": "code",
   "execution_count": 116,
   "metadata": {},
   "outputs": [
    {
     "data": {
      "text/plain": [
       "tensor([[[[ 0.3856, -0.6188, -0.2939],\n",
       "          [-1.2614,  1.6813, -0.6430],\n",
       "          [ 0.8118,  1.4205, -0.4980],\n",
       "          [-0.9878, -0.6202,  0.8661],\n",
       "          [-0.3967, -1.0970,  1.3531]]],\n",
       "\n",
       "\n",
       "        [[[ 0.6429, -0.6450, -0.8904],\n",
       "          [-0.5412, -0.1164,  0.1145],\n",
       "          [-0.0904,  0.8527,  1.4623],\n",
       "          [ 0.6218,  2.0221,  0.2533],\n",
       "          [-0.1603,  0.9349,  0.2694]]]])"
      ]
     },
     "execution_count": 116,
     "metadata": {},
     "output_type": "execute_result"
    }
   ],
   "source": [
    "u"
   ]
  },
  {
   "cell_type": "code",
   "execution_count": 121,
   "metadata": {},
   "outputs": [
    {
     "data": {
      "text/plain": [
       "torch.Size([2, 1, 5, 3])"
      ]
     },
     "execution_count": 121,
     "metadata": {},
     "output_type": "execute_result"
    }
   ],
   "source": [
    "u.shape"
   ]
  },
  {
   "cell_type": "code",
   "execution_count": 130,
   "metadata": {},
   "outputs": [
    {
     "data": {
      "text/plain": [
       "torch.Size([1, 5, 3])"
      ]
     },
     "execution_count": 130,
     "metadata": {},
     "output_type": "execute_result"
    }
   ],
   "source": [
    "max_, ind_max = u.max(dim=0)\n",
    "max_.shape"
   ]
  },
  {
   "cell_type": "code",
   "execution_count": 131,
   "metadata": {},
   "outputs": [],
   "source": [
    "x = torch.randn(32, 3, 5, 7)"
   ]
  },
  {
   "cell_type": "code",
   "execution_count": 133,
   "metadata": {},
   "outputs": [
    {
     "name": "stdout",
     "output_type": "stream",
     "text": [
      "torch.Size([3, 5, 7]) torch.Size([3, 5, 7])\n"
     ]
    }
   ],
   "source": [
    "max_, ind_max = x.max(dim=0)\n",
    "print(max_.shape, ind_max.shape)"
   ]
  },
  {
   "cell_type": "code",
   "execution_count": 134,
   "metadata": {},
   "outputs": [
    {
     "data": {
      "text/plain": [
       "tensor([[[31,  3, 30,  7, 26, 24, 27],\n",
       "         [ 4, 31, 12, 10,  1, 25, 25],\n",
       "         [25, 23,  4, 14, 14, 17,  5],\n",
       "         [31, 12, 10, 12,  2, 24, 18],\n",
       "         [25, 24,  0,  9, 30,  5,  3]],\n",
       "\n",
       "        [[26, 27, 23, 18,  8,  4,  5],\n",
       "         [ 9, 19, 13, 14, 16, 12, 27],\n",
       "         [30, 17, 24, 29, 26, 20, 16],\n",
       "         [ 0, 11, 30, 13,  7,  8, 20],\n",
       "         [11, 10, 11, 20, 13, 20,  9]],\n",
       "\n",
       "        [[ 8,  3, 31,  3, 26,  3,  5],\n",
       "         [14,  5, 30,  3, 18,  2,  5],\n",
       "         [25, 13, 14,  6, 29, 10, 10],\n",
       "         [17, 10, 15, 10, 18, 30, 24],\n",
       "         [12,  9, 13, 12, 21, 14,  8]]])"
      ]
     },
     "execution_count": 134,
     "metadata": {},
     "output_type": "execute_result"
    }
   ],
   "source": [
    "ind_max"
   ]
  },
  {
   "cell_type": "code",
   "execution_count": 75,
   "metadata": {},
   "outputs": [],
   "source": [
    "v = torch.arange(9)\n",
    "v = v.view(3, 3)"
   ]
  },
  {
   "cell_type": "code",
   "execution_count": 76,
   "metadata": {},
   "outputs": [
    {
     "data": {
      "text/plain": [
       "tensor([[0, 1, 2],\n",
       "        [3, 4, 5],\n",
       "        [6, 7, 8]])"
      ]
     },
     "execution_count": 76,
     "metadata": {},
     "output_type": "execute_result"
    }
   ],
   "source": [
    "v"
   ]
  },
  {
   "cell_type": "code",
   "execution_count": 77,
   "metadata": {},
   "outputs": [
    {
     "data": {
      "text/plain": [
       "tensor([[0, 4, 2],\n",
       "        [3, 7, 2]])"
      ]
     },
     "execution_count": 77,
     "metadata": {},
     "output_type": "execute_result"
    }
   ],
   "source": [
    "torch.gather(v, 0, torch.LongTensor([[0,1,0],[1,2,0]]))\n",
    "# the index tensor here specifies the indices of the elements needed. If \n",
    "# dim==0 (like here) the tensor specifies the row number of elements needed \n",
    "# in each of the columns, so [0,1,0] here means 1st element of 1st column, \n",
    "# 3rd element of 2nd column and 1st element of 3rd column. This implies that\n",
    "# if dim==0 then index.shape[1] == input.shape[1]\n",
    "\n",
    "# similarly if dim==1, then index.shape[0] == input.shape[0]"
   ]
  },
  {
   "cell_type": "code",
   "execution_count": 78,
   "metadata": {},
   "outputs": [
    {
     "data": {
      "text/plain": [
       "tensor([[0, 1],\n",
       "        [4, 3],\n",
       "        [8, 7]])"
      ]
     },
     "execution_count": 78,
     "metadata": {},
     "output_type": "execute_result"
    }
   ],
   "source": [
    "torch.gather(v, 1, torch.LongTensor([[0,1],[1,0],[2,1]]))"
   ]
  },
  {
   "cell_type": "code",
   "execution_count": 79,
   "metadata": {},
   "outputs": [],
   "source": [
    "# output[i][j] = input[index[i][j]] [j]  #dim == 0\n",
    "# output[i][j] = input[i] [index[i][j]]  #dim == 1"
   ]
  },
  {
   "cell_type": "code",
   "execution_count": 80,
   "metadata": {},
   "outputs": [
    {
     "data": {
      "text/plain": [
       "(tensor([[0, 1, 2],\n",
       "         [3, 4, 5]]), tensor([[6, 7, 8]]))"
      ]
     },
     "execution_count": 80,
     "metadata": {},
     "output_type": "execute_result"
    }
   ],
   "source": [
    "torch.chunk(v, 2)"
   ]
  },
  {
   "cell_type": "code",
   "execution_count": 81,
   "metadata": {},
   "outputs": [
    {
     "data": {
      "text/plain": [
       "(tensor([[0, 1, 2],\n",
       "         [3, 4, 5]]), tensor([[6, 7, 8]]))"
      ]
     },
     "execution_count": 81,
     "metadata": {},
     "output_type": "execute_result"
    }
   ],
   "source": [
    "torch.split(v, 2)"
   ]
  },
  {
   "cell_type": "code",
   "execution_count": 82,
   "metadata": {},
   "outputs": [
    {
     "name": "stdout",
     "output_type": "stream",
     "text": [
      "tensor([[0, 2],\n",
      "        [3, 5],\n",
      "        [6, 8]])\n"
     ]
    }
   ],
   "source": [
    "indices = torch.LongTensor([0, 2])\n",
    "r = torch.index_select(v, 1, indices)\n",
    "print(r)"
   ]
  },
  {
   "cell_type": "code",
   "execution_count": 83,
   "metadata": {},
   "outputs": [
    {
     "data": {
      "text/plain": [
       "tensor([6, 2, 4])"
      ]
     },
     "execution_count": 83,
     "metadata": {},
     "output_type": "execute_result"
    }
   ],
   "source": [
    "v[[2,0,1],[0,2,1]]"
   ]
  },
  {
   "cell_type": "code",
   "execution_count": 84,
   "metadata": {},
   "outputs": [],
   "source": [
    "mask = v.ge(3)\n",
    "r = torch.masked_select(v, mask)"
   ]
  },
  {
   "cell_type": "code",
   "execution_count": 85,
   "metadata": {},
   "outputs": [
    {
     "data": {
      "text/plain": [
       "tensor([4, 5, 6, 7, 8])"
      ]
     },
     "execution_count": 85,
     "metadata": {},
     "output_type": "execute_result"
    }
   ],
   "source": [
    "v[v > 3]"
   ]
  },
  {
   "cell_type": "code",
   "execution_count": 86,
   "metadata": {},
   "outputs": [
    {
     "data": {
      "text/plain": [
       "<function _VariableFunctions.squeeze>"
      ]
     },
     "execution_count": 86,
     "metadata": {},
     "output_type": "execute_result"
    }
   ],
   "source": [
    "torch.squeeze"
   ]
  },
  {
   "cell_type": "code",
   "execution_count": 87,
   "metadata": {},
   "outputs": [],
   "source": [
    "x = torch.Tensor([1, 2, 3])\n",
    "r = torch.unsqueeze(x, 0)"
   ]
  },
  {
   "cell_type": "code",
   "execution_count": 3,
   "metadata": {},
   "outputs": [
    {
     "ename": "TypeError",
     "evalue": "cat() received an invalid combination of arguments - got (), but expected one of:\n * (tuple of Tensors tensors, name dim, Tensor out)\n * (tuple of Tensors tensors, int dim, Tensor out)\n",
     "output_type": "error",
     "traceback": [
      "\u001b[0;31m---------------------------------------------------------------------------\u001b[0m",
      "\u001b[0;31mTypeError\u001b[0m                                 Traceback (most recent call last)",
      "\u001b[0;32m<ipython-input-3-d6aa4c846c9e>\u001b[0m in \u001b[0;36m<module>\u001b[0;34m\u001b[0m\n\u001b[0;32m----> 1\u001b[0;31m \u001b[0mtorch\u001b[0m\u001b[0;34m.\u001b[0m\u001b[0mcat\u001b[0m\u001b[0;34m(\u001b[0m\u001b[0;34m)\u001b[0m\u001b[0;34m\u001b[0m\u001b[0;34m\u001b[0m\u001b[0m\n\u001b[0m",
      "\u001b[0;31mTypeError\u001b[0m: cat() received an invalid combination of arguments - got (), but expected one of:\n * (tuple of Tensors tensors, name dim, Tensor out)\n * (tuple of Tensors tensors, int dim, Tensor out)\n"
     ]
    }
   ],
   "source": [
    "torch.cat()"
   ]
  }
 ],
 "metadata": {
  "kernelspec": {
   "display_name": "Python 3",
   "language": "python",
   "name": "python3"
  },
  "language_info": {
   "codemirror_mode": {
    "name": "ipython",
    "version": 3
   },
   "file_extension": ".py",
   "mimetype": "text/x-python",
   "name": "python",
   "nbconvert_exporter": "python",
   "pygments_lexer": "ipython3",
   "version": "3.6.8"
  }
 },
 "nbformat": 4,
 "nbformat_minor": 4
}
