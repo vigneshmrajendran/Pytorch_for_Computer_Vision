{
 "cells": [
  {
   "cell_type": "code",
   "execution_count": 66,
   "metadata": {},
   "outputs": [],
   "source": [
    "# standard pytorch import statements\n",
    "\n",
    "import torch\n",
    "import torch.nn as nn\n",
    "import torch.nn.functional as F\n",
    "import torch.optim as optim\n",
    "\n",
    "import torchvision\n",
    "import torchvision.transforms as transforms\n",
    "\n",
    "\n",
    "import functools\n",
    "# torch.set_grad_enabled(True)  #optional\n",
    "torch.set_printoptions(precision=4, linewidth=120)"
   ]
  },
  {
   "cell_type": "code",
   "execution_count": 67,
   "metadata": {},
   "outputs": [
    {
     "name": "stdout",
     "output_type": "stream",
     "text": [
      "1.3.1+cpu\n",
      "0.4.2+cpu\n"
     ]
    }
   ],
   "source": [
    "print(torch.__version__)\n",
    "print(torchvision.__version__)"
   ]
  },
  {
   "cell_type": "code",
   "execution_count": 68,
   "metadata": {},
   "outputs": [
    {
     "data": {
      "text/plain": [
       "<torch.autograd.grad_mode.set_grad_enabled at 0x7f7f0e2fd7f0>"
      ]
     },
     "execution_count": 68,
     "metadata": {},
     "output_type": "execute_result"
    }
   ],
   "source": [
    "torch.set_grad_enabled(True)"
   ]
  },
  {
   "cell_type": "code",
   "execution_count": 69,
   "metadata": {},
   "outputs": [],
   "source": [
    "class Network(torch.nn.Module):\n",
    "    def __init__(self):\n",
    "        super(Network, self).__init__()\n",
    "        # Layers\n",
    "        self.conv1 = torch.nn.Conv2d(in_channels=1, out_channels=6, kernel_size=5)\n",
    "        self.conv2 = torch.nn.Conv2d(in_channels=6, out_channels=12, kernel_size=5)\n",
    "        self.fc1 = torch.nn.Linear(in_features=12*4*4, out_features=120)\n",
    "        self.fc2 = torch.nn.Linear(in_features=120, out_features=60)\n",
    "        self.fc3 = torch.nn.Linear(in_features=60, out_features=10)\n",
    "\n",
    "        #Operations\n",
    "        self.pooling_layer = functools.partial(F.max_pool2d, kernel_size=2, stride=2)\n",
    "        self.relu = F.relu\n",
    "        self.softmax = F.softmax\n",
    "\n",
    "    def forward(self, t):\n",
    "        t = self.conv1(t)\n",
    "        t = self.relu(t)\n",
    "        t = self.pooling_layer(t)\n",
    "\n",
    "        t = self.conv2(t)\n",
    "        t = self.relu(t)\n",
    "        t = self.pooling_layer(t)\n",
    "\n",
    "        t = t.reshape(-1, 12*4*4)\n",
    "        t = self.fc1(t)\n",
    "        t = self.relu(t)\n",
    "\n",
    "        t = self.fc2(t)\n",
    "        t = self.relu(t)\n",
    "\n",
    "        t = self.fc3(t)\n",
    "        return t\n",
    "#     t = self.softmax(t) #Not needed because the training loop has Crossentropy loss func\n",
    "\n",
    "network = Network()"
   ]
  },
  {
   "cell_type": "code",
   "execution_count": 70,
   "metadata": {},
   "outputs": [],
   "source": [
    "training_set = torchvision.datasets.FashionMNIST(\n",
    "  root = './data/FashionMNIST',\n",
    "  train=True,\n",
    "  download=True,\n",
    "  transform = transforms.Compose([\n",
    "    transforms.ToTensor()\n",
    "  ])\n",
    ")"
   ]
  },
  {
   "cell_type": "code",
   "execution_count": 71,
   "metadata": {},
   "outputs": [],
   "source": [
    "data_loader = torch.utils.data.DataLoader(\n",
    "  training_set,\n",
    "  batch_size=10\n",
    ")"
   ]
  },
  {
   "cell_type": "code",
   "execution_count": 72,
   "metadata": {},
   "outputs": [],
   "source": [
    "def get_num_correct(pred, labels):\n",
    "    return torch.argmax(pred, dim=1).eq(labels).sum().item()"
   ]
  },
  {
   "cell_type": "markdown",
   "metadata": {},
   "source": [
    "The size of the output dimension along any axes after a CNN layer/operation:\n",
    "\n",
    "O = ((n - f - 2p) / s) + 1"
   ]
  },
  {
   "cell_type": "code",
   "execution_count": 73,
   "metadata": {},
   "outputs": [
    {
     "name": "stdout",
     "output_type": "stream",
     "text": [
      "epoch:  0  loss:  333.3013140410185  correct:  47511\n",
      "epoch:  1  loss:  221.4416924417019  correct:  51760\n",
      "epoch:  2  loss:  205.32784283161163  correct:  52316\n",
      "epoch:  3  loss:  195.3062479943037  correct:  52722\n",
      "epoch:  4  loss:  190.23150603473186  correct:  52845\n",
      "epoch:  5  loss:  188.68961861729622  correct:  52954\n",
      "epoch:  6  loss:  186.06945875287056  correct:  53056\n",
      "epoch:  7  loss:  181.26165188848972  correct:  53302\n",
      "epoch:  8  loss:  181.78701856732368  correct:  53220\n",
      "epoch:  9  loss:  176.6932606175542  correct:  53471\n"
     ]
    }
   ],
   "source": [
    "new_network = Network()\n",
    "\n",
    "data_loader = torch.utils.data.DataLoader(training_set, batch_size=100)\n",
    "optimizer = optim.Adam(new_network.parameters(), lr=0.01)\n",
    "NUM_EPOCHS = 10\n",
    "\n",
    "for i in range(NUM_EPOCHS):\n",
    "    total_loss = 0\n",
    "    total_correct = 0\n",
    "    loss_list = []\n",
    "    for batch in data_loader:\n",
    "        \n",
    "        images, labels = batch\n",
    "\n",
    "        predictions = new_network(images)\n",
    "        loss = F.cross_entropy(predictions, labels)\n",
    "\n",
    "        optimizer.zero_grad()\n",
    "        loss.backward()\n",
    "        optimizer.step()\n",
    "\n",
    "#         weight_update.append(old_weights == new_weights)\n",
    "\n",
    "        total_correct += get_num_correct(predictions, labels)\n",
    "        total_loss += loss.item()\n",
    "        loss_list.append(loss.item())\n",
    "\n",
    "    print(\"epoch: \", i,' loss: ', total_loss, ' correct: ', total_correct)"
   ]
  },
  {
   "cell_type": "code",
   "execution_count": 74,
   "metadata": {},
   "outputs": [
    {
     "data": {
      "text/plain": [
       "0.8911833333333333"
      ]
     },
     "execution_count": 74,
     "metadata": {},
     "output_type": "execute_result"
    }
   ],
   "source": [
    "#total accuracy\n",
    "total_correct/60000."
   ]
  }
 ],
 "metadata": {
  "kernelspec": {
   "display_name": "Python 3",
   "language": "python",
   "name": "python3"
  },
  "language_info": {
   "codemirror_mode": {
    "name": "ipython",
    "version": 3
   },
   "file_extension": ".py",
   "mimetype": "text/x-python",
   "name": "python",
   "nbconvert_exporter": "python",
   "pygments_lexer": "ipython3",
   "version": "3.6.8"
  }
 },
 "nbformat": 4,
 "nbformat_minor": 4
}
